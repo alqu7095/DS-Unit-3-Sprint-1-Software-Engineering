{
 "cells": [
  {
   "cell_type": "code",
   "execution_count": 1,
   "metadata": {},
   "outputs": [],
   "source": [
    "from acme import Product"
   ]
  },
  {
   "cell_type": "code",
   "execution_count": 2,
   "metadata": {},
   "outputs": [
    {
     "data": {
      "text/plain": [
       "'A Cool Toy'"
      ]
     },
     "execution_count": 2,
     "metadata": {},
     "output_type": "execute_result"
    }
   ],
   "source": [
    "prod = Product('A Cool Toy')\n",
    "prod.name"
   ]
  },
  {
   "cell_type": "code",
   "execution_count": 3,
   "metadata": {},
   "outputs": [
    {
     "data": {
      "text/plain": [
       "10"
      ]
     },
     "execution_count": 3,
     "metadata": {},
     "output_type": "execute_result"
    }
   ],
   "source": [
    "prod.price"
   ]
  },
  {
   "cell_type": "code",
   "execution_count": 4,
   "metadata": {},
   "outputs": [
    {
     "data": {
      "text/plain": [
       "20"
      ]
     },
     "execution_count": 4,
     "metadata": {},
     "output_type": "execute_result"
    }
   ],
   "source": [
    "prod.weight"
   ]
  },
  {
   "cell_type": "code",
   "execution_count": 5,
   "metadata": {},
   "outputs": [
    {
     "data": {
      "text/plain": [
       "0.5"
      ]
     },
     "execution_count": 5,
     "metadata": {},
     "output_type": "execute_result"
    }
   ],
   "source": [
    "prod.flammability"
   ]
  },
  {
   "cell_type": "code",
   "execution_count": 6,
   "metadata": {},
   "outputs": [
    {
     "data": {
      "text/plain": [
       "9639061"
      ]
     },
     "execution_count": 6,
     "metadata": {},
     "output_type": "execute_result"
    }
   ],
   "source": [
    "prod.identifier"
   ]
  },
  {
   "cell_type": "code",
   "execution_count": 7,
   "metadata": {},
   "outputs": [
    {
     "data": {
      "text/plain": [
       "'Kinda stealable'"
      ]
     },
     "execution_count": 7,
     "metadata": {},
     "output_type": "execute_result"
    }
   ],
   "source": [
    "prod.stealability()"
   ]
  },
  {
   "cell_type": "code",
   "execution_count": 8,
   "metadata": {},
   "outputs": [
    {
     "data": {
      "text/plain": [
       "'...boom!'"
      ]
     },
     "execution_count": 8,
     "metadata": {},
     "output_type": "execute_result"
    }
   ],
   "source": [
    "prod.explode()"
   ]
  },
  {
   "cell_type": "code",
   "execution_count": 9,
   "metadata": {},
   "outputs": [],
   "source": [
    "from acme import BoxingGlove"
   ]
  },
  {
   "cell_type": "code",
   "execution_count": 10,
   "metadata": {},
   "outputs": [],
   "source": [
    "glove = BoxingGlove('Punchy the Third')"
   ]
  },
  {
   "cell_type": "code",
   "execution_count": 11,
   "metadata": {},
   "outputs": [
    {
     "data": {
      "text/plain": [
       "10"
      ]
     },
     "execution_count": 11,
     "metadata": {},
     "output_type": "execute_result"
    }
   ],
   "source": [
    "glove.price"
   ]
  },
  {
   "cell_type": "code",
   "execution_count": 12,
   "metadata": {},
   "outputs": [
    {
     "data": {
      "text/plain": [
       "10"
      ]
     },
     "execution_count": 12,
     "metadata": {},
     "output_type": "execute_result"
    }
   ],
   "source": [
    "glove.weight"
   ]
  },
  {
   "cell_type": "code",
   "execution_count": 13,
   "metadata": {},
   "outputs": [
    {
     "data": {
      "text/plain": [
       "'Hey, that hurt!'"
      ]
     },
     "execution_count": 13,
     "metadata": {},
     "output_type": "execute_result"
    }
   ],
   "source": [
    "glove.punch()"
   ]
  },
  {
   "cell_type": "code",
   "execution_count": 14,
   "metadata": {},
   "outputs": [
    {
     "data": {
      "text/plain": [
       "'...this is a glove'"
      ]
     },
     "execution_count": 14,
     "metadata": {},
     "output_type": "execute_result"
    }
   ],
   "source": [
    "glove.explode()"
   ]
  },
  {
   "cell_type": "code",
   "execution_count": 15,
   "metadata": {},
   "outputs": [],
   "source": [
    "from random import randint, sample, uniform\n",
    "from acme import Product\n",
    "\n",
    "# Useful to use with random.sample to generate names\n",
    "ADJECTIVES = ['Awesome', 'Shiny', 'Impressive', 'Portable', 'Improved']\n",
    "NOUNS = ['Anvil', 'Catapult', 'Disguise', 'Mousetrap', '???']\n",
    "\n",
    "\n",
    "def generate_products(num_products=30):\n",
    "    products = []\n",
    "    for x in range(num_products):\n",
    "        list1 = sample(ADJECTIVES, k=1)\n",
    "        list2 = sample(NOUNS, k=1)\n",
    "        for i in list1:\n",
    "            for j in list2:\n",
    "                products.append(\"{} {}\".format(i, j))\n",
    "\n",
    "    return products"
   ]
  },
  {
   "cell_type": "code",
   "execution_count": 16,
   "metadata": {},
   "outputs": [],
   "source": [
    "products = generate_products()"
   ]
  },
  {
   "cell_type": "code",
   "execution_count": 17,
   "metadata": {},
   "outputs": [
    {
     "data": {
      "text/plain": [
       "['Portable Disguise',\n",
       " 'Awesome Anvil',\n",
       " 'Impressive Mousetrap',\n",
       " 'Impressive Mousetrap',\n",
       " 'Awesome Catapult',\n",
       " 'Awesome ???',\n",
       " 'Portable Catapult',\n",
       " 'Improved ???',\n",
       " 'Portable Disguise',\n",
       " 'Portable Anvil',\n",
       " 'Portable Anvil',\n",
       " 'Improved ???',\n",
       " 'Shiny Anvil',\n",
       " 'Shiny ???',\n",
       " 'Portable Disguise',\n",
       " 'Improved Anvil',\n",
       " 'Portable ???',\n",
       " 'Shiny ???',\n",
       " 'Awesome Mousetrap',\n",
       " 'Awesome Anvil',\n",
       " 'Impressive Catapult',\n",
       " 'Portable Mousetrap',\n",
       " 'Awesome Mousetrap',\n",
       " 'Improved ???',\n",
       " 'Awesome Catapult',\n",
       " 'Impressive Mousetrap',\n",
       " 'Portable Mousetrap',\n",
       " 'Improved Anvil',\n",
       " 'Portable Mousetrap',\n",
       " 'Awesome Anvil']"
      ]
     },
     "execution_count": 17,
     "metadata": {},
     "output_type": "execute_result"
    }
   ],
   "source": [
    "products"
   ]
  },
  {
   "cell_type": "code",
   "execution_count": 18,
   "metadata": {},
   "outputs": [],
   "source": [
    "def inventory_report(products):\n",
    "    prices = []\n",
    "    weights = []\n",
    "    flammabilities = []\n",
    "    for item in products:\n",
    "        price = randint(5,100)\n",
    "        prices.append(price)\n",
    "        weight = randint(5,100)\n",
    "        weights.append(weight)\n",
    "        flammability = uniform(0.0, 2.5)\n",
    "        flammabilities.append(flammability)\n",
    "        \n",
    "    s = f'ACME CORPORATION OFFICIAL INVENTORY REPORT, Unique product names: {len(products)}, Average price: {sum(prices)/len(prices)}, Average weight: {sum(weights)/len(weights)}, Average flammability: {sum(flammabilities)/len(flammabilities)}'\n",
    "        \n",
    "    return s"
   ]
  },
  {
   "cell_type": "code",
   "execution_count": 19,
   "metadata": {},
   "outputs": [
    {
     "data": {
      "text/plain": [
       "'ACME CORPORATION OFFICIAL INVENTORY REPORT, Unique product names: 30, Average price: 51.46666666666667, Average weight: 58.0, Average flammability: 1.3436606023257547'"
      ]
     },
     "execution_count": 19,
     "metadata": {},
     "output_type": "execute_result"
    }
   ],
   "source": [
    "inventory_report(products)"
   ]
  },
  {
   "cell_type": "code",
   "execution_count": null,
   "metadata": {},
   "outputs": [],
   "source": [
    "sum(t)/len(t)"
   ]
  },
  {
   "cell_type": "code",
   "execution_count": null,
   "metadata": {},
   "outputs": [],
   "source": []
  }
 ],
 "metadata": {
  "kernelspec": {
   "display_name": "Python 3",
   "language": "python",
   "name": "python3"
  },
  "language_info": {
   "codemirror_mode": {
    "name": "ipython",
    "version": 3
   },
   "file_extension": ".py",
   "mimetype": "text/x-python",
   "name": "python",
   "nbconvert_exporter": "python",
   "pygments_lexer": "ipython3",
   "version": "3.7.3"
  }
 },
 "nbformat": 4,
 "nbformat_minor": 2
}
