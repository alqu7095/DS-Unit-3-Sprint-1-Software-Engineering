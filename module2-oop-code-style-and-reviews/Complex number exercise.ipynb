{
 "cells": [
  {
   "cell_type": "code",
   "execution_count": 3,
   "metadata": {},
   "outputs": [
    {
     "data": {
      "text/plain": [
       "(3.0, -4.5)"
      ]
     },
     "execution_count": 3,
     "metadata": {},
     "output_type": "execute_result"
    }
   ],
   "source": [
    "class Complex:\n",
    "    def __init__(self, realpart, imagpart):       \n",
    "        self.r = realpart\n",
    "        self.i = imagpart\n",
    "\n",
    "x = Complex(3.0, -4.5)\n",
    "x.r, x.i"
   ]
  },
  {
   "cell_type": "code",
   "execution_count": 8,
   "metadata": {},
   "outputs": [
    {
     "data": {
      "text/plain": [
       "3.0 + i-4.5"
      ]
     },
     "execution_count": 8,
     "metadata": {},
     "output_type": "execute_result"
    }
   ],
   "source": [
    "class Complex:\n",
    "    def __init__(self, realpart, imagpart):       \n",
    "        self.r = realpart\n",
    "        self.i = imagpart\n",
    "\n",
    "    def __repr__(self):\n",
    "        return '%s + i%s' % (self.r, self.i)\n",
    "\n",
    "x = Complex(3.0, -4.5)\n",
    "x"
   ]
  },
  {
   "cell_type": "code",
   "execution_count": 9,
   "metadata": {},
   "outputs": [
    {
     "data": {
      "text/plain": [
       "3.0 + i5.0"
      ]
     },
     "execution_count": 9,
     "metadata": {},
     "output_type": "execute_result"
    }
   ],
   "source": [
    "class Complex:\n",
    "    def __init__(self, realpart, imagpart):       \n",
    "        self.r = realpart\n",
    "        self.i = imagpart\n",
    "\n",
    "    def __repr__(self):\n",
    "        return '%s + i%s' % (self.r, self.i)\n",
    "\n",
    "x = Complex(3.0, 5.0)\n",
    "x"
   ]
  },
  {
   "cell_type": "code",
   "execution_count": 10,
   "metadata": {},
   "outputs": [
    {
     "data": {
      "text/plain": [
       "3.0 + 5.0i"
      ]
     },
     "execution_count": 10,
     "metadata": {},
     "output_type": "execute_result"
    }
   ],
   "source": [
    "class Complex:\n",
    "    def __init__(self, realpart, imagpart):       \n",
    "        self.r = realpart\n",
    "        self.i = imagpart\n",
    "\n",
    "    def __repr__(self):\n",
    "        return '%s + %si' % (self.r, self.i)\n",
    "\n",
    "x = Complex(3.0, 5.0)\n",
    "x"
   ]
  },
  {
   "cell_type": "code",
   "execution_count": 12,
   "metadata": {},
   "outputs": [],
   "source": [
    "class Complex:\n",
    "    def __init__(self, realpart, imagpart):       \n",
    "        self.r = realpart\n",
    "        self.i = imagpart\n",
    "\n",
    "    def __repr__(self):\n",
    "        return '%s + %si' % (self.r, self.i)\n",
    "\n",
    "x = Complex(3.0, 5.0)\n",
    "y = Complex(2.0, 7.0)\n",
    "z = Complex(1.0, -3.0)"
   ]
  },
  {
   "cell_type": "code",
   "execution_count": 16,
   "metadata": {},
   "outputs": [],
   "source": [
    "class Complex:\n",
    "    def __init__(self, realpart, imagpart):       \n",
    "        self.r = realpart\n",
    "        self.i = imagpart\n",
    "\n",
    "    def __repr__(self):\n",
    "        return '%s + %si' % (self.r, self.i)\n",
    "\n",
    "    def add(self, realpart, imagpart):\n",
    "        return Complex(self.r + realpart,\n",
    "                       self.i + imagpart)\n",
    "\n",
    "\n"
   ]
  },
  {
   "cell_type": "code",
   "execution_count": 17,
   "metadata": {},
   "outputs": [],
   "source": [
    "x = Complex(3.0, 5.0)\n",
    "y = Complex(2.0, 7.0)\n",
    "z = Complex(1.0, -3.0)"
   ]
  },
  {
   "cell_type": "code",
   "execution_count": 18,
   "metadata": {},
   "outputs": [
    {
     "data": {
      "text/plain": [
       "9.0 + 15.0i"
      ]
     },
     "execution_count": 18,
     "metadata": {},
     "output_type": "execute_result"
    }
   ],
   "source": [
    "y.add(7,8)"
   ]
  }
 ],
 "metadata": {
  "kernelspec": {
   "display_name": "Python 3",
   "language": "python",
   "name": "python3"
  },
  "language_info": {
   "codemirror_mode": {
    "name": "ipython",
    "version": 3
   },
   "file_extension": ".py",
   "mimetype": "text/x-python",
   "name": "python",
   "nbconvert_exporter": "python",
   "pygments_lexer": "ipython3",
   "version": "3.7.3"
  }
 },
 "nbformat": 4,
 "nbformat_minor": 2
}
